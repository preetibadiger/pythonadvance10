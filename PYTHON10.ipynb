{
 "cells": [
  {
   "cell_type": "code",
   "execution_count": null,
   "id": "66441c1e",
   "metadata": {},
   "outputs": [],
   "source": [
    "Q1. What is the difference between __getattr__ and __getattribute__?\n",
    "\n",
    "ANS:\n",
    "    getattribute: Is used to retrieve an attribute from an instance. \n",
    "        It captures every attempt to access an instance attribute by using dot notation or getattr() built-in function.\n",
    "    getattr: Is executed as the last resource when attribute is not found in an object.\n",
    "        You can choose to return a default value or to raise AttributeError."
   ]
  },
  {
   "cell_type": "code",
   "execution_count": null,
   "id": "592b3ffe",
   "metadata": {},
   "outputs": [],
   "source": [
    "Q2. What is the difference between properties and descriptors?\n",
    "\n",
    "ANS:\n",
    "    Python descriptors are a way to create managed attributes. Among their many advantages, \n",
    "    managed attributes are used to protect an attribute from changes or to automatically update the values of a\n",
    "    dependant attribute. Descriptors increase an understanding of Python, and improve coding skills.\n",
    "    \n",
    "    Python's property() is the Pythonic way to avoid formal getter and setter methods in your code.\n",
    "    This function allows you to turn class attributes into properties or managed attributes.\n",
    "    Since property() is a built-in function, you can use it without importing anything.\n"
   ]
  },
  {
   "cell_type": "code",
   "execution_count": null,
   "id": "ecf6d7da",
   "metadata": {},
   "outputs": [],
   "source": [
    "Q3. What are the key differences in functionality between __getattr__ and __getattribute__, as well as\n",
    "properties and descriptors?\n",
    "\n",
    "ANS:\n",
    "       getattribute: Is used to retrieve an attribute from an instance. \n",
    "        It captures every attempt to access an instance attribute by using dot notation or getattr() built-in function.\n",
    "    getattr: Is executed as the last resource when attribute is not found in an object.\n",
    "        You can choose to return a default value or to raise AttributeError.\n",
    "    \n",
    "    Python descriptors are a way to create managed attributes. Among their many advantages, \n",
    "    managed attributes are used to protect an attribute from changes or to automatically update the values of a\n",
    "    dependant attribute. Descriptors increase an understanding of Python, and improve coding skills.\n",
    "    \n",
    "    Python's property() is the Pythonic way to avoid formal getter and setter methods in your code.\n",
    "    This function allows you to turn class attributes into properties or managed attributes.\n",
    "    Since property() is a built-in function, you can use it without importing anything.\n",
    "    "
   ]
  }
 ],
 "metadata": {
  "kernelspec": {
   "display_name": "Python 3 (ipykernel)",
   "language": "python",
   "name": "python3"
  },
  "language_info": {
   "codemirror_mode": {
    "name": "ipython",
    "version": 3
   },
   "file_extension": ".py",
   "mimetype": "text/x-python",
   "name": "python",
   "nbconvert_exporter": "python",
   "pygments_lexer": "ipython3",
   "version": "3.9.7"
  }
 },
 "nbformat": 4,
 "nbformat_minor": 5
}
